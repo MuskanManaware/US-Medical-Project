{
 "cells": [
  {
   "cell_type": "markdown",
   "metadata": {},
   "source": [
    "# U.S. Medical Insurance Costs"
   ]
  },
  {
   "cell_type": "markdown",
   "metadata": {},
   "source": [
    "## Aim:\n",
    "To develop a predictive model that accurately estimates insurance charges based on personal demographic and lifestyle **attributes** such as **age, sex, BMI, number of children, region, and smoking status**. This project aims to enhance the understanding of how these factors influence insurance premiums and to provide a reliable tool for insurance companies to assess potential costs."
   ]
  },
  {
   "cell_type": "markdown",
   "metadata": {},
   "source": [
    "## Goal:\n",
    "The goal of this project is to analyze various attributes within **insurance.csv** to predict insurance charges accurately, gaining insights into the factors that influence these charges."
   ]
  },
  {
   "cell_type": "code",
   "execution_count": null,
   "metadata": {},
   "outputs": [],
   "source": [
    "# importing csv library\n",
    "import csv\n"
   ]
  },
  {
   "cell_type": "markdown",
   "metadata": {},
   "source": [
    "To begin, it is essential to import all necessary libraries. For this project, the only required library is the **csv** library, which will be used to work with the **insurance.csv** dataset. Although other libraries could benefit from this project, the csv library alone will suffice for our analysis.\n",
    "\n",
    "The next step involves examining the insurance.csv file to familiarize yourself with the data. We will check the following aspects to plan how to import the data into a Python script:\n",
    "\n",
    "* The names of columns and rows\n",
    "* Any obvious missing data\n",
    "* extraction of data from csv file to list of attributes"
   ]
  },
  {
   "cell_type": "code",
   "execution_count": null,
   "metadata": {},
   "outputs": [],
   "source": [
    "# Creating a list of all the columns from a csv file (insurance.csv)\n",
    "age=[]\n",
    "sex=[]\n",
    "BMI=[]\n",
    "num_children=[]\n",
    "region=[]\n",
    "smoking_status=[]\n",
    "charges=[]"
   ]
  },
  {
   "cell_type": "markdown",
   "metadata": {},
   "source": [
    "**insurance.csv** includes the following columns:\n",
    "* Patient Age\n",
    "* Patient Sex\n",
    "* Patient BMI\n",
    "* Patient Number of Children\n",
    "* Patient Smoking Status\n",
    "* Patient U.S. Geographical Region\n",
    "* Patient Yearly Medical Insurance Cost\n",
    "  \n",
    "There is no evidence of missing data. To store this information, seven empty lists will be created to hold each column of data from insurance.csv."
   ]
  },
  {
   "cell_type": "code",
   "execution_count": null,
   "metadata": {},
   "outputs": [],
   "source": [
    "# helper function to load csv data\n",
    "def extract_data(data_list, filename, column_name):\n",
    "    # open csv file \n",
    "    with open(filename) as csv_file:\n",
    "        # read the data from the csv file\n",
    "        insurance_data = csv.DictReader(csv_file)\n",
    "        # loop through the data in each row of the csv \n",
    "        for row in insurance_data:\n",
    "            # add the data from each row to a list\n",
    "            data_list.append(row[column_name])\n",
    "        # return the list\n",
    "        return data_list"
   ]
  },
  {
   "cell_type": "code",
   "execution_count": null,
   "metadata": {},
   "outputs": [],
   "source": [
    "# displaying data returned by extract_data function\n",
    "extract_data(age,'insurance.csv','age')\n",
    "extract_data(sex,'insurance.csv','sex')\n",
    "extract_data(BMI,'insurance.csv','bmi')\n",
    "extract_data(num_children,'insurance.csv','children')\n",
    "extract_data(region,'insurance.csv','region')\n",
    "extract_data(smoking_status,'insurance.csv','smoker')\n",
    "extract_data(charges,'insurance.csv','charges')"
   ]
  },
  {
   "cell_type": "markdown",
   "metadata": {},
   "source": [
    "1. **Firstly we Calculate the Average Insurance Charge:**\n",
    "To determine the average cost of insurance charges across the entire dataset, I will compute the mean value of the 'charges' column. This analysis aims to provide a comprehensive understanding of typical insurance costs(in USD)$ based on the available data.\n",
    "\n",
    "\n"
   ]
  },
  {
   "cell_type": "code",
   "execution_count": null,
   "metadata": {},
   "outputs": [],
   "source": [
    "# function to calculate average charge cost per year:\n",
    "def average_charges(charge=[]):\n",
    "    total_cost=0\n",
    "    \n",
    "    for cost in charge:\n",
    "        total_cost=total_cost+float(cost)\n",
    "    avearge_charge_cost = total_cost/len(charge)\n",
    "    return avearge_charge_cost\n",
    "\n",
    "\n",
    "print(\"The Average Charge Cost of whole data set including Smokers and Non-Smokers: \"+ str(average_charges(charges))) \n",
    "\n",
    "\n",
    "    "
   ]
  },
  {
   "cell_type": "markdown",
   "metadata": {},
   "source": [
    "2. **Is the Average cost of a Smoker is higher than Non_smoker:**\n",
    "The goal is to determine if there is a difference in average insurance charges between smokers and non-smokers.\n",
    "By analyzing the 'smoker' column against the 'charge' column in the dataset, I will investigate whether smokers tend to have higher average insurance costs than non-smokers."
   ]
  },
  {
   "cell_type": "code",
   "execution_count": null,
   "metadata": {},
   "outputs": [],
   "source": [
    "def diff_average_cost(smoker=[],charge=[]):\n",
    "    list_smoking=list(zip(smoker,charge))\n",
    "    \n",
    "    total_cost_smoker=0\n",
    "    total_cost_non_smoker=0\n",
    "    smoker_list=[cost[1] for cost in list_smoking if cost[0]== 'yes']  # using list comprehension creating list of smoker charges \n",
    "    non_smoker_list=[cost[1] for cost in list_smoking if cost[0]== 'no']\n",
    "\n",
    "    print(\"The Average Insurance Cost of Smoking Person is :\" +str(round(average_charges(smoker_list),2))+\"$\" )\n",
    "    \n",
    "    print(\"The Average Insurance Cost of Non-Smoking Person is :\" +str(round(average_charges(non_smoker_list),2))+\"$\" )\n",
    "\n",
    "    difference = round((average_charges(smoker_list))- average_charges(non_smoker_list),2)\n",
    "    \n",
    "    print(\"The Difference between Smoker and Non_Smoker insurance cost is : {difference}$\".format(difference=difference))\n",
    "    \n",
    "    if (average_charges(smoker_list) > average_charges(non_smoker_list)):\n",
    "        print(\"Smoking is injurious to Health!!!! and Wealth!!!!\")\n",
    "\n",
    "diff_average_cost(smoking_status,charges)"
   ]
  },
  {
   "cell_type": "markdown",
   "metadata": {
    "editable": true,
    "slideshow": {
     "slide_type": ""
    },
    "tags": []
   },
   "source": [
    "3. **Gender-Based Analysis:**\n",
    "In this analysis, we aim to investigate potential differences or patterns based on gender within a given dataset. By examining variables and metrics across different genders, we seek to uncover insights that may highlight disparities, preferences, or trends specific to male and female groups."
   ]
  },
  {
   "cell_type": "code",
   "execution_count": null,
   "metadata": {},
   "outputs": [],
   "source": [
    "# function to analyze gender count \n",
    "def gender_analysis(gender=[]):\n",
    "    # female=gender.count('female')  # we can also use count() to calculate the value of females\n",
    "    # print(female)\n",
    "    female=0\n",
    "    male=0\n",
    "    for sex in gender:\n",
    "        if sex == 'female':\n",
    "            female+=1\n",
    "        else:\n",
    "            male+=1\n",
    "    print(\"The Count of Female: {female}\".format(female=female))\n",
    "    print(\"The Count of Male: {male}\".format(male=male))\n",
    "    \n",
    "# testing function\n",
    "gender_analysis(sex)"
   ]
  },
  {
   "cell_type": "markdown",
   "metadata": {},
   "source": [
    "4. **Age-Based Analysis:**\n",
    "In this analysis, the objective is to explore and understand patterns, trends, and relationships based on age within a dataset. By focusing on the 'age' column, we aim to calculate average age."
   ]
  },
  {
   "cell_type": "code",
   "execution_count": null,
   "metadata": {},
   "outputs": [],
   "source": [
    "# function to analyze average age\n",
    "def average_age(ages=[]):\n",
    "    total_age=0\n",
    "    for age in ages:\n",
    "        total_age=total_age+int(age)\n",
    "    avg_age=total_age/len(ages)\n",
    "    return avg_age\n",
    "\n",
    "print(\"The Average age of People: \"+str(average_age(age)))\n",
    "    "
   ]
  },
  {
   "cell_type": "code",
   "execution_count": null,
   "metadata": {},
   "outputs": [],
   "source": [
    "print(region.count('southwest'))"
   ]
  },
  {
   "cell_type": "markdown",
   "metadata": {},
   "source": [
    "5. **Smoking and Gender-Based Analysis:**\n",
    "To determine if there is a significant difference in smoking rates between males and females.\n",
    "\n"
   ]
  },
  {
   "cell_type": "code",
   "execution_count": null,
   "metadata": {
    "scrolled": true
   },
   "outputs": [],
   "source": [
    "# function to see the ratio of male and female smokers\n",
    "def smoker_Gender_rate(gender=[],smoking_status=[],charges=[]):\n",
    "    smoker_gender_data = list(zip(gender,smoking_status,charges))\n",
    "\n",
    "    # Creating a list of females who smoke and storing their charges to female_smoker\n",
    "    female_smoker=[i[2] for i in smoker_gender_data if i[0]== 'female' and i[1] == 'yes']\n",
    "    avg_female_smoker_charges=average_charges(female_smoker)\n",
    "    print(\"There are total \"+str(len(female_smoker))+\" Female Smokers and their average insurance charges are \"+ str(avg_female_smoker_charges))\n",
    "\n",
    "    # Creating a list of males who smoke and storing their charges to male_smoker\n",
    "    male_smoker=[i[2] for i in smoker_gender_data if i[0]== 'male' and i[1] == 'yes']\n",
    "    \n",
    "    avg_male_smoker_charges=average_charges(male_smoker)\n",
    "    print(\"There are total \"+str(len(male_smoker))+\" Male Smokers and their average insurance charges are \"+ str(avg_male_smoker_charges))\n",
    "\n",
    "\n",
    "smoker_Gender_rate(sex,smoking_status,charges)"
   ]
  },
  {
   "cell_type": "markdown",
   "metadata": {},
   "source": [
    "6. **Region-Based Analysis:**\n",
    "In this analysis, we aim to investigate the patterns and differences across various geographical regions within a dataset. By focusing on the 'region' column, we seek to uncover insights that may reveal how regional differences impact various variables and outcomes."
   ]
  },
  {
   "cell_type": "code",
   "execution_count": null,
   "metadata": {},
   "outputs": [],
   "source": [
    "# function to see region count \n",
    "def region_analyse(region=[],charge=[]):\n",
    "    region_data= list(zip(region,charge))\n",
    "    # print(region_data)\n",
    "    south_east_charge=[i[1] for i in region_data if i[0]== 'southeast']\n",
    "    # print(south_east_charge)\n",
    "    print(\"The Average cost of Insurance From SouthEast Region: {average}\".format(average=average_charges(south_east_charge)))\n",
    "\n",
    "    south_west_charge=[i[1] for i in region_data if i[0]== 'southwest']\n",
    "    # print(south_west_charge)\n",
    "    print(\"The Average cost of Insurance From SouthWest Region: {average}\".format(average=average_charges(south_west_charge)))\n",
    "\n",
    "    north_east_charge=[i[1] for i in region_data if i[0]== 'northeast']\n",
    "    # print(north_east_charge)\n",
    "    print(\"The Average cost of Insurance From NorthEast Region: {average}\".format(average=average_charges(north_east_charge)))\n",
    "    \n",
    "    north_west_charge=[i[1] for i in region_data if i[0]== 'northwest']\n",
    "    # print(north_west_charge)\n",
    "    print(\"The Average cost of Insurance From NorthWest Region: {average}\".format(average=average_charges(north_west_charge)))\n",
    "    \n",
    "\n",
    "region_analyse(region,charges)\n",
    "    "
   ]
  },
  {
   "cell_type": "markdown",
   "metadata": {},
   "source": [
    "This analysis provides valuable insights into the factors influencing insurance charges. By understanding how demographic and lifestyle factors impact insurance costs, more effective and equitable health and insurance policies can be developed."
   ]
  }
 ],
 "metadata": {
  "kernelspec": {
   "display_name": "Python 3 (ipykernel)",
   "language": "python",
   "name": "python3"
  },
  "language_info": {
   "codemirror_mode": {
    "name": "ipython",
    "version": 3
   },
   "file_extension": ".py",
   "mimetype": "text/x-python",
   "name": "python",
   "nbconvert_exporter": "python",
   "pygments_lexer": "ipython3",
   "version": "3.10.12"
  }
 },
 "nbformat": 4,
 "nbformat_minor": 4
}
